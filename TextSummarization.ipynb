{
  "nbformat": 4,
  "nbformat_minor": 0,
  "metadata": {
    "colab": {
      "name": "TextSummarization.ipynb",
      "provenance": []
    },
    "kernelspec": {
      "name": "python3",
      "display_name": "Python 3"
    },
    "accelerator": "GPU"
  },
  "cells": [
    {
      "cell_type": "code",
      "metadata": {
        "id": "agJRDSdCf1t1",
        "colab_type": "code",
        "colab": {}
      },
      "source": [
        "'''Data Source: https://www.kaggle.com/snap/amazon-fine-food-reviews'''\n",
        "\n",
        "# Import attention layer\n",
        "from attention import AttentionLayer"
      ],
      "execution_count": 0,
      "outputs": []
    },
    {
      "cell_type": "code",
      "metadata": {
        "id": "_n0hC8Vzghyg",
        "colab_type": "code",
        "colab": {}
      },
      "source": [
        "#Import the Libraries\n",
        "import numpy as np\n",
        "import pandas as pd \n",
        "import re\n",
        "from bs4 import BeautifulSoup\n",
        "from keras.preprocessing.text import Tokenizer \n",
        "from keras.preprocessing.sequence import pad_sequences\n",
        "from nltk.corpus import stopwords\n",
        "from tensorflow.keras.layers import Input, LSTM, Embedding, Dense, Concatenate, TimeDistributed\n",
        "from tensorflow.keras.models import Model\n",
        "from tensorflow.keras.callbacks import EarlyStopping\n",
        "import warnings\n",
        "pd.set_option(\"display.max_colwidth\", 200)\n",
        "warnings.filterwarnings(\"ignore\")\n"
      ],
      "execution_count": 0,
      "outputs": []
    },
    {
      "cell_type": "code",
      "metadata": {
        "id": "85Y590JXgiAr",
        "colab_type": "code",
        "colab": {}
      },
      "source": [
        "# Read the dataset\n",
        "dataset=pd.read_csv(\"/content/drive/My Drive/Reviews.csv\",nrows=100000)"
      ],
      "execution_count": 0,
      "outputs": []
    },
    {
      "cell_type": "code",
      "metadata": {
        "id": "QOt8mwiOgiH8",
        "colab_type": "code",
        "colab": {}
      },
      "source": [
        "# Drop duplication/empaty values\n",
        "dataset.drop_duplicates(subset=['Text'],inplace=True)\n",
        "dataset.dropna(axis=0,inplace=True)\n"
      ],
      "execution_count": 0,
      "outputs": []
    },
    {
      "cell_type": "code",
      "metadata": {
        "id": "Jqm13H7sgiMi",
        "colab_type": "code",
        "colab": {}
      },
      "source": [
        "# The dictionary that we will use for expanding the contractions:\n",
        "contrac_words = {\"ain't\": \"is not\", \"aren't\": \"are not\",\"can't\": \"cannot\", \"'cause\": \"because\", \"could've\": \"could have\", \"couldn't\": \"could not\",\n",
        "                \"didn't\": \"did not\",  \"doesn't\": \"does not\", \"don't\": \"do not\", \"hadn't\": \"had not\", \"hasn't\": \"has not\", \"haven't\": \"have not\",\n",
        "                \"he'd\": \"he would\",\"he'll\": \"he will\", \"he's\": \"he is\", \"how'd\": \"how did\", \"how'd'y\": \"how do you\", \"how'll\": \"how will\", \"how's\": \"how is\",\n",
        "                \"I'd\": \"I would\", \"I'd've\": \"I would have\", \"I'll\": \"I will\", \"I'll've\": \"I will have\",\"I'm\": \"I am\", \"I've\": \"I have\", \"i'd\": \"i would\",\n",
        "                \"i'd've\": \"i would have\", \"i'll\": \"i will\",  \"i'll've\": \"i will have\",\"i'm\": \"i am\", \"i've\": \"i have\", \"isn't\": \"is not\", \"it'd\": \"it would\",\n",
        "                \"it'd've\": \"it would have\", \"it'll\": \"it will\", \"it'll've\": \"it will have\",\"it's\": \"it is\", \"let's\": \"let us\", \"ma'am\": \"madam\",\n",
        "                \"mayn't\": \"may not\", \"might've\": \"might have\",\"mightn't\": \"might not\",\"mightn't've\": \"might not have\", \"must've\": \"must have\",\n",
        "                \"mustn't\": \"must not\", \"mustn't've\": \"must not have\", \"needn't\": \"need not\", \"needn't've\": \"need not have\",\"o'clock\": \"of the clock\",\n",
        "                \"oughtn't\": \"ought not\", \"oughtn't've\": \"ought not have\", \"shan't\": \"shall not\", \"sha'n't\": \"shall not\", \"shan't've\": \"shall not have\",\n",
        "                \"she'd\": \"she would\", \"she'd've\": \"she would have\", \"she'll\": \"she will\", \"she'll've\": \"she will have\", \"she's\": \"she is\",\n",
        "                \"should've\": \"should have\", \"shouldn't\": \"should not\", \"shouldn't've\": \"should not have\", \"so've\": \"so have\",\"so's\": \"so as\",\n",
        "                \"this's\": \"this is\",\"that'd\": \"that would\", \"that'd've\": \"that would have\", \"that's\": \"that is\", \"there'd\": \"there would\",\n",
        "                \"there'd've\": \"there would have\", \"there's\": \"there is\", \"here's\": \"here is\",\"they'd\": \"they would\", \"they'd've\": \"they would have\",\n",
        "                \"they'll\": \"they will\", \"they'll've\": \"they will have\", \"they're\": \"they are\", \"they've\": \"they have\", \"to've\": \"to have\",\n",
        "                \"wasn't\": \"was not\", \"we'd\": \"we would\", \"we'd've\": \"we would have\", \"we'll\": \"we will\", \"we'll've\": \"we will have\", \"we're\": \"we are\",\n",
        "                \"we've\": \"we have\", \"weren't\": \"were not\", \"what'll\": \"what will\", \"what'll've\": \"what will have\", \"what're\": \"what are\",\n",
        "                \"what's\": \"what is\", \"what've\": \"what have\", \"when's\": \"when is\", \"when've\": \"when have\", \"where'd\": \"where did\", \"where's\": \"where is\",\n",
        "                \"where've\": \"where have\", \"who'll\": \"who will\", \"who'll've\": \"who will have\", \"who's\": \"who is\", \"who've\": \"who have\",\n",
        "                \"why's\": \"why is\", \"why've\": \"why have\", \"will've\": \"will have\", \"won't\": \"will not\", \"won't've\": \"will not have\",\n",
        "                \"would've\": \"would have\", \"wouldn't\": \"would not\", \"wouldn't've\": \"would not have\", \"y'all\": \"you all\",\n",
        "                \"y'all'd\": \"you all would\",\"y'all'd've\": \"you all would have\",\"y'all're\": \"you all are\",\"y'all've\": \"you all have\",\n",
        "                \"you'd\": \"you would\", \"you'd've\": \"you would have\", \"you'll\": \"you will\", \"you'll've\": \"you will have\",\n",
        "                \"you're\": \"you are\", \"you've\": \"you have\"}\n"
      ],
      "execution_count": 0,
      "outputs": []
    },
    {
      "cell_type": "code",
      "metadata": {
        "id": "BQnUInHtgiPr",
        "colab_type": "code",
        "colab": {
          "base_uri": "https://localhost:8080/",
          "height": 51
        },
        "outputId": "a6f7d246-7224-42d5-ed9a-0bfce6c6a015"
      },
      "source": [
        "# Data-preprocessing\n",
        "import nltk\n",
        "nltk.download('stopwords')\n",
        "# Remove stopwords\n",
        "stop_words = set(stopwords.words('english')) \n",
        "def cleaner_txt(txt,num):\n",
        "    string = txt.lower() # convert into lowercase\n",
        "    string = BeautifulSoup(string, \"lxml\").text # remove HTML tags\n",
        "    string = re.sub(r'\\([^)]*\\)', '', string)\n",
        "    string = re.sub('\"','', string)\n",
        "    string = ' '.join([contrac_words[t] if t in contrac_words else t for t in string.split(\" \")]) # contraction mapping   \n",
        "    string = re.sub(r\"'s\\b\",\"\",string) # remove 's\n",
        "    string = re.sub(\"[^a-zA-Z]\", \" \", string)# Remove any text inside the parenthesis\n",
        "    string = re.sub('[m]{2,}', 'mm', string)\n",
        "    if(num==0):\n",
        "        tokens = [w for w in string.split() if not w in stop_words]\n",
        "    else:\n",
        "        tokens=string.split()\n",
        "    long_words=[]\n",
        "    for i in tokens:\n",
        "        if len(i)>1:                                                 \n",
        "            long_words.append(i)   \n",
        "    return (\" \".join(long_words)).strip()"
      ],
      "execution_count": 28,
      "outputs": [
        {
          "output_type": "stream",
          "text": [
            "[nltk_data] Downloading package stopwords to /root/nltk_data...\n",
            "[nltk_data]   Package stopwords is already up-to-date!\n"
          ],
          "name": "stdout"
        }
      ]
    },
    {
      "cell_type": "code",
      "metadata": {
        "id": "ktdBVbZ2giVL",
        "colab_type": "code",
        "colab": {}
      },
      "source": [
        "#call the function\n",
        "txt_cleaned = []\n",
        "for t in dataset['Text']:\n",
        "    txt_cleaned.append(cleaner_txt(t,0))\n",
        "summary_cleaned = []\n",
        "for t in dataset['Summary']:\n",
        "    summary_cleaned.append(cleaner_txt(t,1))"
      ],
      "execution_count": 0,
      "outputs": []
    },
    {
      "cell_type": "code",
      "metadata": {
        "id": "PiF6a9L1gijr",
        "colab_type": "code",
        "colab": {}
      },
      "source": [
        "dataset['txt_cleaned']=txt_cleaned\n",
        "dataset['summary_cleaned']=summary_cleaned\n",
        "#Drop empty rows\n",
        "dataset.replace('', np.nan, inplace=True)\n",
        "dataset.dropna(axis=0,inplace=True)"
      ],
      "execution_count": 0,
      "outputs": []
    },
    {
      "cell_type": "code",
      "metadata": {
        "id": "qioBJGnRgimt",
        "colab_type": "code",
        "colab": {
          "base_uri": "https://localhost:8080/",
          "height": 281
        },
        "outputId": "d86d7d1b-3205-415c-98ad-7bc4f74dfbb8"
      },
      "source": [
        "#analyze the length of the reviews and the summary to get an overall idea about the distribution of length of the text.\n",
        "import matplotlib.pyplot as plt\n",
        "word_count_text = []\n",
        "word_count_summary = []\n",
        "# populate the lists with sentence lengths\n",
        "for i in dataset['txt_cleaned']:\n",
        "      word_count_text.append(len(i.split()))\n",
        "\n",
        "for i in dataset['summary_cleaned']:\n",
        "      word_count_summary.append(len(i.split()))\n",
        "\n",
        "len_dataframe = pd.DataFrame({'txt':word_count_text, 'summary':word_count_summary})\n",
        "len_dataframe.hist(bins = 30)\n",
        "plt.show()"
      ],
      "execution_count": 31,
      "outputs": [
        {
          "output_type": "display_data",
          "data": {
            "image/png": "[encoded data removed]",
            "text/plain": [
              "<Figure size 432x288 with 2 Axes>"
            ]
          },
          "metadata": {
            "tags": []
          }
        }
      ]
    },
    {
      "cell_type": "code",
      "metadata": {
        "id": "IHEFfxvNgisH",
        "colab_type": "code",
        "colab": {
          "base_uri": "https://localhost:8080/",
          "height": 34
        },
        "outputId": "bc4fa51e-9be2-453b-e3d4-a39df18c7954"
      },
      "source": [
        "count=0\n",
        "for i in dataset['summary_cleaned']:\n",
        "    if(len(i.split())<=8):\n",
        "        count=count+1\n",
        "print(count/len(dataset['summary_cleaned']))"
      ],
      "execution_count": 32,
      "outputs": [
        {
          "output_type": "stream",
          "text": [
            "0.9424907471335922\n"
          ],
          "name": "stdout"
        }
      ]
    },
    {
      "cell_type": "code",
      "metadata": {
        "id": "_UesdMOKgiw2",
        "colab_type": "code",
        "colab": {}
      },
      "source": [
        "# fix the maximum length of review to 30\n",
        "max_len_txt=30\n",
        "max_len_summary=8\n",
        "\n",
        "# select the reviews and summaries whose length falls below or equal to **max_len_txt** and **max_len_summary**\n",
        "txt_cleaned =np.array(dataset['txt_cleaned'])\n",
        "summary_cleaned=np.array(dataset['summary_cleaned'])\n",
        "\n",
        "txt_short=[]\n",
        "summary_short=[]\n",
        "for i in range(len(txt_cleaned)):\n",
        "    if(len(summary_cleaned[i].split())<=max_len_summary and len(txt_cleaned[i].split())<=max_len_txt):\n",
        "        txt_short.append(txt_cleaned[i])\n",
        "        summary_short.append(summary_cleaned[i])\n",
        "        \n",
        "dataframe=pd.DataFrame({'txt':txt_short,'summary':summary_short})\n",
        "\n",
        "# add the **START** and **END** special tokens at the beginning and end of the summary. \n",
        "dataframe['summary'] = dataframe['summary'].apply(lambda x : 'sostok '+ x + ' eostok')"
      ],
      "execution_count": 0,
      "outputs": []
    },
    {
      "cell_type": "code",
      "metadata": {
        "id": "kVQwjaRFgivC",
        "colab_type": "code",
        "colab": {}
      },
      "source": [
        "# We’ll use 90% of the datasetset as the training dataset and evaluate the performance on the remaining 10% :\n",
        "from sklearn.model_selection import train_test_split\n",
        "x_train,x_test,y_train,y_test=train_test_split(np.array(dataframe['txt']),np.array(dataframe['summary']),test_size=0.1,random_state=0,shuffle=True)"
      ],
      "execution_count": 0,
      "outputs": []
    },
    {
      "cell_type": "code",
      "metadata": {
        "id": "KmW4SZF0giqj",
        "colab_type": "code",
        "colab": {}
      },
      "source": [
        "#Text Tokenizer\n",
        "from keras.preprocessing.text import Tokenizer \n",
        "from keras.preprocessing.sequence import pad_sequences\n",
        "\n",
        "# tokenizer for training dataset\n",
        "tokenizer_x = Tokenizer() \n",
        "tokenizer_x.fit_on_texts(list(x_train))"
      ],
      "execution_count": 0,
      "outputs": []
    },
    {
      "cell_type": "code",
      "metadata": {
        "id": "4dSZ_VrhgihU",
        "colab_type": "code",
        "colab": {
          "base_uri": "https://localhost:8080/",
          "height": 51
        },
        "outputId": "d3d3c13f-1ac3-4168-b3d7-67057cf66dbd"
      },
      "source": [
        "threshold=4\n",
        "count=0\n",
        "count_total=0\n",
        "frequancy=0\n",
        "frequancy_total=0\n",
        "for k,v in tokenizer_x.word_counts.items():\n",
        "    count_total=count_total+1\n",
        "    frequancy_total=frequancy_total+v\n",
        "    if(v<threshold):\n",
        "        count=count+1\n",
        "        frequancy=frequancy+v\n",
        "print(\"% of rare words in vocabulary:\",(count/count_total)*100)\n",
        "print(\"Total Coverage of rare words:\",(frequancy/frequancy_total)*100)"
      ],
      "execution_count": 36,
      "outputs": [
        {
          "output_type": "stream",
          "text": [
            "% of rare words in vocabulary: 66.12339930151339\n",
            "Total Coverage of rare words: 2.953684513790566\n"
          ],
          "name": "stdout"
        }
      ]
    },
    {
      "cell_type": "code",
      "metadata": {
        "id": "pnMA6OCQgifq",
        "colab_type": "code",
        "colab": {}
      },
      "source": [
        "#Summary Tokenizer\n",
        "# tokenizer for training dataset\n",
        "tokenizer_x = Tokenizer(num_words=count_total-count) \n",
        "tokenizer_x.fit_on_texts(list(x_train))\n",
        "\n",
        "#convert text sequences into integer sequences\n",
        "x_tr_seq    =   tokenizer_x.texts_to_sequences(x_train) \n",
        "x_val_seq   =   tokenizer_x.texts_to_sequences(x_test)\n",
        "\n",
        "#padding zero to maximum length\n",
        "x_train    =   pad_sequences(x_tr_seq,  maxlen=max_len_txt, padding='post')\n",
        "x_test   =   pad_sequences(x_val_seq, maxlen=max_len_txt, padding='post')\n",
        "\n",
        "#size of vocabulary ( +1 for padding token)\n",
        "x_voc   =  tokenizer_x.num_words + 1"
      ],
      "execution_count": 0,
      "outputs": []
    },
    {
      "cell_type": "code",
      "metadata": {
        "id": "kl6F1p7fn1tw",
        "colab_type": "code",
        "colab": {}
      },
      "source": [
        "#tokenizer for training dataset\n",
        "tokenizer_y = Tokenizer()   \n",
        "tokenizer_y.fit_on_texts(list(y_train))"
      ],
      "execution_count": 0,
      "outputs": []
    },
    {
      "cell_type": "code",
      "metadata": {
        "id": "LxP74uZin103",
        "colab_type": "code",
        "colab": {
          "base_uri": "https://localhost:8080/",
          "height": 51
        },
        "outputId": "00bb45c0-d2aa-4847-d791-34d7c1ec2074"
      },
      "source": [
        "# defining the thresholdold to be 6 which means word whose count is below 6 is considered as a rare word\n",
        "threshold=6\n",
        "count=0\n",
        "count_total=0\n",
        "frequancy=0\n",
        "frequancy_total=0\n",
        "for k,v in tokenizer_y.word_counts.items():\n",
        "    count_total=count_total+1\n",
        "    frequancy_total=frequancy_total+v\n",
        "    if(v<threshold):\n",
        "        count=count+1\n",
        "        frequancy=frequancy+v\n",
        "print(\"% of rare words in vocabulary:\",(count/count_total)*100)\n",
        "print(\"Total Coverage of rare words:\",(frequancy/frequancy_total)*100)"
      ],
      "execution_count": 40,
      "outputs": [
        {
          "output_type": "stream",
          "text": [
            "% of rare words in vocabulary: 78.12740675541863\n",
            "Total Coverage of rare words: 5.3921899389571895\n"
          ],
          "name": "stdout"
        }
      ]
    },
    {
      "cell_type": "code",
      "metadata": {
        "id": "Bxb1-Q9bgicq",
        "colab_type": "code",
        "colab": {}
      },
      "source": [
        "# Define the tokenizer with top most common words for SUMMARY.\n",
        "#tokenizer for training dataset\n",
        "tokenizer_y = Tokenizer(num_words=count_total-count) \n",
        "tokenizer_y.fit_on_texts(list(y_train))\n",
        "\n",
        "#convert text to integer\n",
        "y_train_seq    =   tokenizer_y.texts_to_sequences(y_train) \n",
        "y_test_seq   =   tokenizer_y.texts_to_sequences(y_test) \n",
        "\n",
        "# padding zero to maximum \n",
        "y_train    =   pad_sequences(y_train_seq, maxlen=max_len_summary, padding='post')\n",
        "y_test   =   pad_sequences(y_test_seq, maxlen=max_len_summary, padding='post')\n",
        "\n",
        "# size of vocabulary\n",
        "y_vocab  =   tokenizer_y.num_words +1"
      ],
      "execution_count": 0,
      "outputs": []
    },
    {
      "cell_type": "code",
      "metadata": {
        "id": "9ppH7Kvmgibc",
        "colab_type": "code",
        "colab": {
          "base_uri": "https://localhost:8080/",
          "height": 34
        },
        "outputId": "acc9a94a-181e-4c7e-f5e5-941aae227590"
      },
      "source": [
        "#check whether word count of start token is equal to length of the training dataset\n",
        "tokenizer_y.word_counts['sostok'],len(y_train)\n"
      ],
      "execution_count": 43,
      "outputs": [
        {
          "output_type": "execute_result",
          "data": {
            "text/plain": [
              "(42453, 42453)"
            ]
          },
          "metadata": {
            "tags": []
          },
          "execution_count": 43
        }
      ]
    },
    {
      "cell_type": "code",
      "metadata": {
        "id": "fslmEbNMgiaD",
        "colab_type": "code",
        "colab": {}
      },
      "source": [
        "# deleting the rows that contain only START and END tokens for training set\n",
        "index=[]\n",
        "for i in range(len(y_train)):\n",
        "    count=0\n",
        "    for j in y_train[i]:\n",
        "        if j!=0:\n",
        "            count=count+1\n",
        "    if(count==2):\n",
        "        index.append(i)\n",
        "y_train=np.delete(y_train,index, axis=0)\n",
        "x_train=np.delete(x_train,index, axis=0)"
      ],
      "execution_count": 0,
      "outputs": []
    },
    {
      "cell_type": "code",
      "metadata": {
        "id": "jIx6wSs8giK7",
        "colab_type": "code",
        "colab": {}
      },
      "source": [
        "# deleting the rows that contain only START and END tokens for testing set\n",
        "index=[]\n",
        "for i in range(len(y_test)):\n",
        "    count=0\n",
        "    for j in y_test[i]:\n",
        "        if j!=0:\n",
        "            count=count+1\n",
        "    if(count==2):\n",
        "        index.append(i)\n",
        "y_test=np.delete(y_test,index, axis=0)\n",
        "x_test=np.delete(x_test,index, axis=0)"
      ],
      "execution_count": 0,
      "outputs": []
    },
    {
      "cell_type": "code",
      "metadata": {
        "id": "yeElN8HYgiFq",
        "colab_type": "code",
        "colab": {
          "base_uri": "https://localhost:8080/",
          "height": 853
        },
        "outputId": "3d9cfcf1-b12f-4b52-ddb6-10e4e928c66f"
      },
      "source": [
        "from keras import backend as K \n",
        "K.clear_session()\n",
        "dim_latent = 300\n",
        "dim_emb=100\n",
        "\n",
        "# Encoder\n",
        "en_input = Input(shape=(max_len_txt,))\n",
        "\n",
        "#embedding layer\n",
        "en_embedding =  Embedding(x_voc, dim_emb,trainable=True)(en_input)\n",
        "\n",
        "# lstm 1\n",
        "en_lstm1 = LSTM(dim_latent,return_sequences=True,return_state=True,dropout=0.4,recurrent_dropout=0.4)\n",
        "en_output1, state_hidden1, state_c1 = en_lstm1(en_embedding)\n",
        "\n",
        "# lstm 2\n",
        "en_lstm2 = LSTM(dim_latent,return_sequences=True,return_state=True,dropout=0.4,recurrent_dropout=0.4)\n",
        "en_output2, state_hidden2, state_c2 = en_lstm2(en_output1)\n",
        "\n",
        "# lstm 3\n",
        "en_lstm3=LSTM(dim_latent, return_state=True, return_sequences=True,dropout=0.4,recurrent_dropout=0.4)\n",
        "en_outputs, state_hidden, state_c= en_lstm3(en_output2)\n",
        "\n",
        "# Set up the decoder \n",
        "dec_input = Input(shape=(None,))\n",
        "\n",
        "#embedding layer \n",
        "emb_layer_dec = Embedding(y_vocab, dim_emb,trainable=True)\n",
        "dec_embedding = emb_layer_dec(dec_input)\n",
        "\n",
        "dec_lstm = LSTM(dim_latent, return_sequences=True, return_state=True,dropout=0.4,recurrent_dropout=0.2)\n",
        "dec_output,dec_fwd_state, dec_back_state = dec_lstm(dec_embedding,initial_state=[state_hidden, state_c])\n",
        "\n",
        "# Attention layer\n",
        "attention_layer = AttentionLayer(name='attention_layer')\n",
        "attention_output, attention_states = attention_layer([en_outputs, dec_output])\n",
        "\n",
        "# Concatinate attention input and decoder LSTM output\n",
        "dec_concate_input = Concatenate(axis=-1, name='concat_layer')([dec_output, attention_output])\n",
        "\n",
        "# Dense layer\n",
        "dec_dense =  TimeDistributed(Dense(y_vocab, activation='softmax'))\n",
        "dec_output = dec_dense(dec_concate_input)\n",
        "\n",
        "# Define the model \n",
        "model = Model([en_input, dec_input], dec_output)\n",
        "model.summary()"
      ],
      "execution_count": 46,
      "outputs": [
        {
          "output_type": "stream",
          "text": [
            "WARNING:tensorflow:From /usr/local/lib/python3.6/dist-packages/keras/backend/tensorflow_backend.py:107: The name tf.reset_default_graph is deprecated. Please use tf.compat.v1.reset_default_graph instead.\n",
            "\n",
            "WARNING:tensorflow:From /usr/local/lib/python3.6/dist-packages/keras/backend/tensorflow_backend.py:111: The name tf.placeholder_with_default is deprecated. Please use tf.compat.v1.placeholder_with_default instead.\n",
            "\n",
            "WARNING:tensorflow:From /usr/local/lib/python3.6/dist-packages/keras/backend/tensorflow_backend.py:66: The name tf.get_default_graph is deprecated. Please use tf.compat.v1.get_default_graph instead.\n",
            "\n",
            "WARNING:tensorflow:From /usr/local/lib/python3.6/dist-packages/tensorflow/python/keras/initializers.py:119: calling RandomUniform.__init__ (from tensorflow.python.ops.init_ops) with dtype is deprecated and will be removed in a future version.\n",
            "Instructions for updating:\n",
            "Call initializer instance with the dtype argument instead of passing it to the constructor\n",
            "WARNING:tensorflow:From /usr/local/lib/python3.6/dist-packages/tensorflow/python/ops/init_ops.py:1251: calling VarianceScaling.__init__ (from tensorflow.python.ops.init_ops) with dtype is deprecated and will be removed in a future version.\n",
            "Instructions for updating:\n",
            "Call initializer instance with the dtype argument instead of passing it to the constructor\n",
            "WARNING:tensorflow:Entity <bound method AttentionLayer.call of <attention.AttentionLayer object at 0x7f40c5029518>> could not be transformed and will be executed as-is. Please report this to the AutgoGraph team. When filing the bug, set the verbosity to 10 (on Linux, `export AUTOGRAPH_VERBOSITY=10`) and attach the full output. Cause: converting <bound method AttentionLayer.call of <attention.AttentionLayer object at 0x7f40c5029518>>: AttributeError: module 'gast' has no attribute 'Num'\n",
            "WARNING: Entity <bound method AttentionLayer.call of <attention.AttentionLayer object at 0x7f40c5029518>> could not be transformed and will be executed as-is. Please report this to the AutgoGraph team. When filing the bug, set the verbosity to 10 (on Linux, `export AUTOGRAPH_VERBOSITY=10`) and attach the full output. Cause: converting <bound method AttentionLayer.call of <attention.AttentionLayer object at 0x7f40c5029518>>: AttributeError: module 'gast' has no attribute 'Num'\n",
            "Model: \"model\"\n",
            "__________________________________________________________________________________________________\n",
            "Layer (type)                    Output Shape         Param #     Connected to                     \n",
            "==================================================================================================\n",
            "input_1 (InputLayer)            [(None, 30)]         0                                            \n",
            "__________________________________________________________________________________________________\n",
            "embedding (Embedding)           (None, 30, 100)      844000      input_1[0][0]                    \n",
            "__________________________________________________________________________________________________\n",
            "lstm (LSTM)                     [(None, 30, 300), (N 481200      embedding[0][0]                  \n",
            "__________________________________________________________________________________________________\n",
            "input_2 (InputLayer)            [(None, None)]       0                                            \n",
            "__________________________________________________________________________________________________\n",
            "lstm_1 (LSTM)                   [(None, 30, 300), (N 721200      lstm[0][0]                       \n",
            "__________________________________________________________________________________________________\n",
            "embedding_1 (Embedding)         (None, None, 100)    198900      input_2[0][0]                    \n",
            "__________________________________________________________________________________________________\n",
            "lstm_2 (LSTM)                   [(None, 30, 300), (N 721200      lstm_1[0][0]                     \n",
            "__________________________________________________________________________________________________\n",
            "lstm_3 (LSTM)                   [(None, None, 300),  481200      embedding_1[0][0]                \n",
            "                                                                 lstm_2[0][1]                     \n",
            "                                                                 lstm_2[0][2]                     \n",
            "__________________________________________________________________________________________________\n",
            "attention_layer (AttentionLayer ((None, None, 300),  180300      lstm_2[0][0]                     \n",
            "                                                                 lstm_3[0][0]                     \n",
            "__________________________________________________________________________________________________\n",
            "concat_layer (Concatenate)      (None, None, 600)    0           lstm_3[0][0]                     \n",
            "                                                                 attention_layer[0][0]            \n",
            "__________________________________________________________________________________________________\n",
            "time_distributed (TimeDistribut (None, None, 1989)   1195389     concat_layer[0][0]               \n",
            "==================================================================================================\n",
            "Total params: 4,823,389\n",
            "Trainable params: 4,823,389\n",
            "Non-trainable params: 0\n",
            "__________________________________________________________________________________________________\n"
          ],
          "name": "stdout"
        }
      ]
    },
    {
      "cell_type": "code",
      "metadata": {
        "id": "ytvbxpXSgiDi",
        "colab_type": "code",
        "colab": {}
      },
      "source": [
        "model.compile(optimizer='rmsprop', loss='sparse_categorical_crossentropy',metrics=['acc'])\n"
      ],
      "execution_count": 0,
      "outputs": []
    },
    {
      "cell_type": "code",
      "metadata": {
        "id": "ra8z1NLFoexu",
        "colab_type": "code",
        "colab": {}
      },
      "source": [
        "# stop traing once the testing loss increases\n",
        "earlystopping = EarlyStopping(monitor='val_loss', mode='min', verbose=1,patience=2)"
      ],
      "execution_count": 0,
      "outputs": []
    },
    {
      "cell_type": "code",
      "metadata": {
        "id": "oO26Wh87oe7g",
        "colab_type": "code",
        "colab": {
          "base_uri": "https://localhost:8080/",
          "height": 275
        },
        "outputId": "5b8ffa3a-ed4d-44a4-f98b-d692f0af3ac6"
      },
      "source": [
        "# train the model\n",
        "x=model.fit([x_train,y_train[:,:-1]], y_train.reshape(y_train.shape[0],y_train.shape[1], 1)[:,1:] ,epochs=5,callbacks=[earlystopping],batch_size=128, validation_data=([x_test,y_test[:,:-1]], y_test.reshape(y_test.shape[0],y_test.shape[1], 1)[:,1:]))"
      ],
      "execution_count": 50,
      "outputs": [
        {
          "output_type": "stream",
          "text": [
            "Train on 41346 samples, validate on 4588 samples\n",
            "WARNING:tensorflow:From /usr/local/lib/python3.6/dist-packages/tensorflow/python/ops/math_grad.py:1250: add_dispatch_support.<locals>.wrapper (from tensorflow.python.ops.array_ops) is deprecated and will be removed in a future version.\n",
            "Instructions for updating:\n",
            "Use tf.where in 2.0, which has the same broadcast rule as np.where\n",
            "Epoch 1/5\n",
            "41346/41346 [==============================] - 649s 16ms/sample - loss: 2.8278 - acc: 0.5721 - val_loss: 2.6068 - val_acc: 0.5932\n",
            "Epoch 2/5\n",
            "41346/41346 [==============================] - 612s 15ms/sample - loss: 2.5152 - acc: 0.6014 - val_loss: 2.4369 - val_acc: 0.5999\n",
            "Epoch 3/5\n",
            "41346/41346 [==============================] - 607s 15ms/sample - loss: 2.3633 - acc: 0.6138 - val_loss: 2.3114 - val_acc: 0.6170\n",
            "Epoch 4/5\n",
            "41346/41346 [==============================] - 601s 15ms/sample - loss: 2.2578 - acc: 0.6230 - val_loss: 2.2480 - val_acc: 0.6217\n",
            "Epoch 5/5\n",
            "41346/41346 [==============================] - 601s 15ms/sample - loss: 2.1896 - acc: 0.6297 - val_loss: 2.1947 - val_acc: 0.6285\n"
          ],
          "name": "stdout"
        }
      ]
    },
    {
      "cell_type": "code",
      "metadata": {
        "id": "y2wdjnIqofBy",
        "colab_type": "code",
        "colab": {
          "base_uri": "https://localhost:8080/",
          "height": 265
        },
        "outputId": "26376970-2f35-4ede-9f34-ddd185b3c16e"
      },
      "source": [
        "# plot a the behavior of the model over time\n",
        "from matplotlib import pyplot as plt\n",
        "plt.plot(x.history['loss'], label='train',color='green')\n",
        "plt.plot(x.history['val_loss'], label='test',color='red')\n",
        "plt.legend()\n",
        "plt.show()"
      ],
      "execution_count": 52,
      "outputs": [
        {
          "output_type": "display_data",
          "data": {
            "image/png": "[encoded data removed]",
            "text/plain": [
              "<Figure size 432x288 with 1 Axes>"
            ]
          },
          "metadata": {
            "tags": []
          }
        }
      ]
    },
    {
      "cell_type": "code",
      "metadata": {
        "id": "Uht7mHa4oe_D",
        "colab_type": "code",
        "colab": {}
      },
      "source": [
        "# build the dictionary to convert the index to word for target and source vocabulary\n",
        "reverce_targat_word_index=tokenizer_y.index_word\n",
        "reverce_sourse_word_index=tokenizer_x.index_word\n",
        "targat_word_index=tokenizer_y.word_index"
      ],
      "execution_count": 0,
      "outputs": []
    },
    {
      "cell_type": "code",
      "metadata": {
        "id": "TASnZRAGoe5r",
        "colab_type": "code",
        "colab": {
          "base_uri": "https://localhost:8080/",
          "height": 71
        },
        "outputId": "5166339b-272b-40b9-c2b1-c5f08657b63c"
      },
      "source": [
        "# The inference for the encoder and decoder\n",
        "# Encode the input sequence to get the feature vector\n",
        "en_model = Model(inputs=en_input,outputs=[en_outputs, state_hidden, state_c])\n",
        "\n",
        "# Decoder\n",
        "# Below tensors will hold the states of the previous time step\n",
        "decoder_state_input_h = Input(shape=(dim_latent,))\n",
        "decoder_state_input_c= Input(shape=(dim_latent,))\n",
        "dec_hid_stat_ip = Input(shape=(max_len_txt,dim_latent))\n",
        "\n",
        "# Get the embeddings of the decoder sequence\n",
        "dec_embedding2= emb_layer_dec(dec_input) \n",
        "\n",
        "dec_output2, state_hidden2, state_c2 = dec_lstm(dec_embedding2, initial_state=[decoder_state_input_h, decoder_state_input_c])\n",
        "\n",
        "#attention inference\n",
        "attention_output_inf, attention_states_inf = attention_layer([dec_hid_stat_ip, dec_output2])\n",
        "dec_inf_con = Concatenate(axis=-1, name='concat')([dec_output2, attention_output_inf])\n",
        "\n",
        "# A dense softmax layer to generate prob dist. over the target vocabulary\n",
        "dec_output2 = dec_dense(dec_inf_con) \n",
        "\n",
        "# decoder model\n",
        "dec_model = Model(\n",
        "    [dec_input] + [dec_hid_stat_ip,decoder_state_input_h, decoder_state_input_c],\n",
        "    [dec_output2] + [state_hidden2, state_c2])"
      ],
      "execution_count": 58,
      "outputs": [
        {
          "output_type": "stream",
          "text": [
            "WARNING:tensorflow:Entity <bound method AttentionLayer.call of <attention.AttentionLayer object at 0x7f40c5029518>> could not be transformed and will be executed as-is. Please report this to the AutgoGraph team. When filing the bug, set the verbosity to 10 (on Linux, `export AUTOGRAPH_VERBOSITY=10`) and attach the full output. Cause: converting <bound method AttentionLayer.call of <attention.AttentionLayer object at 0x7f40c5029518>>: AttributeError: module 'gast' has no attribute 'Num'\n",
            "WARNING: Entity <bound method AttentionLayer.call of <attention.AttentionLayer object at 0x7f40c5029518>> could not be transformed and will be executed as-is. Please report this to the AutgoGraph team. When filing the bug, set the verbosity to 10 (on Linux, `export AUTOGRAPH_VERBOSITY=10`) and attach the full output. Cause: converting <bound method AttentionLayer.call of <attention.AttentionLayer object at 0x7f40c5029518>>: AttributeError: module 'gast' has no attribute 'Num'\n"
          ],
          "name": "stdout"
        }
      ]
    },
    {
      "cell_type": "code",
      "metadata": {
        "id": "GQgJR7DHoe4a",
        "colab_type": "code",
        "colab": {}
      },
      "source": [
        "# Implementation of the inference process\n",
        "def decode_seq(input_sequence):\n",
        "    # Encode the input.\n",
        "    en_out, en_h, en_c = en_model.predict(input_sequence)\n",
        "    \n",
        "    # Generate empty target sequence of length 1.\n",
        "    targat_seq = np.zeros((1,1))\n",
        "    \n",
        "    # the first word of target sequence with the start word.\n",
        "    targat_seq[0, 0] = targat_word_index['sostok']\n",
        "\n",
        "    stop_cond = False\n",
        "    dec_sent = ''\n",
        "    while not stop_cond:\n",
        "      \n",
        "        output_tokans, h, c = dec_model.predict([targat_seq] + [en_out, en_h, en_c])\n",
        "\n",
        "        \n",
        "        sample_index_tokan = np.argmax(output_tokans[0, -1, :])\n",
        "        sample_tokan = reverce_targat_word_index[sample_index_tokan]\n",
        "        \n",
        "        if(sample_tokan!='eostok'):\n",
        "            dec_sent += ' '+sample_tokan\n",
        "\n",
        "        # Exit condition\n",
        "        if (sample_tokan == 'eostok'  or len(dec_sent.split()) >= (max_len_summary-1)):\n",
        "            stop_cond = True\n",
        "\n",
        "        # Update the target sequence.\n",
        "        targat_seq = np.zeros((1,1))\n",
        "        targat_seq[0, 0] = sample_index_tokan\n",
        "\n",
        "        # Update internal states\n",
        "        en_h, en_c = h, c\n",
        "\n",
        "    return dec_sent"
      ],
      "execution_count": 0,
      "outputs": []
    },
    {
      "cell_type": "code",
      "metadata": {
        "id": "TeXY-Z6Eoe1j",
        "colab_type": "code",
        "colab": {}
      },
      "source": [
        "#convert an integer sequence to a word sequence for summary/reviews\n",
        "def sequence2summary(input_sequence):\n",
        "    string=''\n",
        "    for i in input_sequence:\n",
        "        if((i!=0 and i!=targat_word_index['sostok']) and i!=targat_word_index['eostok']):\n",
        "            string=string+reverce_targat_word_index[i]+' '\n",
        "    return string\n",
        "\n",
        "def sequence2text(input_sequence):\n",
        "    string=''\n",
        "    for i in input_sequence:\n",
        "        if(i!=0):\n",
        "            string=string+reverce_sourse_word_index[i]+' '\n",
        "    return string\n"
      ],
      "execution_count": 0,
      "outputs": []
    },
    {
      "cell_type": "code",
      "metadata": {
        "id": "gInkgKi6o8-o",
        "colab_type": "code",
        "colab": {
          "base_uri": "https://localhost:8080/",
          "height": 1000
        },
        "outputId": "5fac1135-5fab-4ef1-c2fc-7b89d5e88e52"
      },
      "source": [
        "# Preticted summary\n",
        "for i in range(0,100):\n",
        "    print(\"Review:\",sequence2text(x_train[i]))\n",
        "    print(\"Original summary:\",sequence2summary(y_train[i]))\n",
        "    print(\"Predicted summary:\",decode_seq(x_train[i].reshape(1,max_len_txt)))\n",
        "    print(\"\\n\")"
      ],
      "execution_count": 61,
      "outputs": [
        {
          "output_type": "stream",
          "text": [
            "Review: gave caffeine shakes heart anxiety attack plus tastes unbelievably bad stick coffee tea soda thanks \n",
            "Original summary: hour \n",
            "Predicted summary:  great tea\n",
            "\n",
            "\n",
            "Review: got great course good belgian chocolates better \n",
            "Original summary: would like to give it stars but \n",
            "Predicted summary:  great\n",
            "\n",
            "\n",
            "Review: one best flavored coffees tried usually like flavored coffees one great serve company love \n",
            "Original summary: delicious \n",
            "Predicted summary:  great coffee\n",
            "\n",
            "\n",
            "Review: salt separate area pain makes hard regulate salt putting like salt go ahead get product \n",
            "Original summary: tastes ok packaging \n",
            "Predicted summary:  great popcorn\n",
            "\n",
            "\n",
            "Review: really like product super easy order online delivered much cheaper buying gas station stocking good long drives \n",
            "Original summary: turkey jerky is great \n",
            "Predicted summary:  great product\n",
            "\n",
            "\n",
            "Review: best salad dressing delivered promptly quantities last vidalia onion dressing compares made oak hill farms sometimes find costco order front door want even orders cut shipping costs \n",
            "Original summary: my favorite salad dressing \n",
            "Predicted summary:  great product\n",
            "\n",
            "\n",
            "Review: think sitting around warehouse long time took long time send got tea tasted like cardboard red rasberry leaf tea know supposed taste like \n",
            "Original summary: stale \n",
            "Predicted summary:  great tea\n",
            "\n",
            "\n",
            "Review: year old cat special diet digestive problems also diabetes stopped eating usual special formula food tried different kinds catfood one liked easy digestion diabetes thank newman \n",
            "Original summary: wonderful \n",
            "Predicted summary:  great for cats\n",
            "\n",
            "\n",
            "Review: always perfect snack dog loves knows exactly starts ask time evening gets greenie snack thank excellent product fast delivery \n",
            "Original summary: greenies buddy treat \n",
            "Predicted summary:  great for training\n",
            "\n",
            "\n",
            "Review: dog loves tiny treats keep one car one house \n",
            "Original summary: dog loves them \n",
            "Predicted summary:  great dog food\n",
            "\n",
            "\n",
            "Review: liked coffee much subscribing dark rich smooth \n",
            "Original summary: makes great cup of java \n",
            "Predicted summary:  great coffee\n",
            "\n",
            "\n",
            "Review: far dog tried chicken peanut butter flavor absolutely loves love natural makes happy giving dog something healthy treats small soft big plus calories \n",
            "Original summary: love zuke mini naturals \n",
            "Predicted summary:  great for training\n",
            "\n",
            "\n",
            "Review: absolutely delicious satisfy something sweet really filling great early morning time make breakfast great afternoon snack work feeling sluggish \n",
            "Original summary: protein bar \n",
            "Predicted summary:  delicious\n",
            "\n",
            "\n",
            "Review: aware decaf coffee although showed search decaf cups intended purchase gift kept recipient drink caffeine favorite means \n",
            "Original summary: not decaf \n",
            "Predicted summary:  great coffee\n",
            "\n",
            "\n",
            "Review: wonderful wrote perfect iced cookie one pen writing cookies names happy ca \n",
            "Original summary: cookie \n",
            "Predicted summary:  great snack\n",
            "\n",
            "\n",
            "Review: truffle oil quite good prefer brand france urbani italy expensive oh delicious tried black white good black bit stronger pungent event healthy alternative butter enjoy \n",
            "Original summary: delicious but not the best \n",
            "Predicted summary:  great\n",
            "\n",
            "\n",
            "Review: enjoy coffee office split right middle loving think worth try order regularly \n",
            "Original summary: hit or miss \n",
            "Predicted summary:  great coffee\n",
            "\n",
            "\n",
            "Review: husband gluten free food several years tried several different bread mixes first actually enjoys buying amazon saves loaf \n",
            "Original summary: really good gluten free bread \n",
            "Predicted summary:  great for gluten free\n",
            "\n",
            "\n",
            "Review: hubby eats says good snacks morning done apple flavor \n",
            "Original summary: really good nice snack \n",
            "Predicted summary:  great\n",
            "\n",
            "\n",
            "Review: waste money disgusting product chocolate taste tastes like plastic lining paper carton using milk treated ultra high temperatures like fresh milk go get fresh milk hershey syrup want chocolate milk \n",
            "Original summary: please do not waste your money \n",
            "Predicted summary:  not as advertised\n",
            "\n",
            "\n",
            "Review: absolutely loves apple chicken happy hips looks forward one morning one night gets soooo excited would eat allowed \n",
            "Original summary: healthy treats \n",
            "Predicted summary:  great for training\n",
            "\n",
            "\n",
            "Review: strong much flavor little aroma tried purchase another time similiar brands met standards expected \n",
            "Original summary: no flavor \n",
            "Predicted summary:  great coffee\n",
            "\n",
            "\n",
            "Review: company wanted chose order anyway \n",
            "Original summary: water \n",
            "Predicted summary:  not as advertised\n",
            "\n",
            "\n",
            "Review: introduced number people hooked best sour gummy ever great flavors got great price \n",
            "Original summary: new favorite \n",
            "Predicted summary:  great\n",
            "\n",
            "\n",
            "Review: new price attractive however tastes horrible maybe old zico coconut water brands might find acceptable \n",
            "Original summary: do not be by the price \n",
            "Predicted summary:  not as advertised\n",
            "\n",
            "\n",
            "Review: sure ever going buy product way expensive market price \n",
            "Original summary: too expensive \n",
            "Predicted summary:  great product\n",
            "\n",
            "\n",
            "Review: flavor normally find local stores plus buy bulk things take savings add veggies even stir egg noodles cook add nutrition quick meals lot extra \n",
            "Original summary: good value \n",
            "Predicted summary:  great stuff\n",
            "\n",
            "\n",
            "Review: order tea labeled decaff must caffeine residue levels tested tea caffeine decaff non decaff tea anywhere caffeine caffeine caffeinated tea caffeine slightly less naturally present tea leaf \n",
            "Original summary: caffeine is not \n",
            "Predicted summary:  great tea\n",
            "\n",
            "\n",
            "Review: excellent babies toddler really best offer little one delicious rich vitamins calcium protein low fat sorry products available website \n",
            "Original summary: excellent product for babies and toddler \n",
            "Predicted summary:  great for the price\n",
            "\n",
            "\n",
            "Review: purchased item dented would bet run dented product clearing ship ones \n",
            "Original summary: sometimes dented \n",
            "Predicted summary:  dented cans\n",
            "\n",
            "\n",
            "Review: almost tastes like mini blueberry pie love one favorite thoroughly fallen love \n",
            "Original summary: excellent love the blueberry pecan \n",
            "Predicted summary:  great\n",
            "\n",
            "\n",
            "Review: dog loves keeps busy minutes long time chew hound \n",
            "Original summary: chew away \n",
            "Predicted summary:  great dog food\n",
            "\n",
            "\n",
            "Review: plant came quickly looks great office nice pot plant thriving well \n",
            "Original summary: very nice office plant \n",
            "Predicted summary:  great product\n",
            "\n",
            "\n",
            "Review: dog loves lickety stik bacon flavor since likes much plan getting flavors great liquid treat dog highly recommend lickety stik \n",
            "Original summary: great dog treat \n",
            "Predicted summary:  great dog food\n",
            "\n",
            "\n",
            "Review: great toy dogs chew everything else little literally eats toys one toys yet destroy loves carries around everywhere got rex cutest thing \n",
            "Original summary: good for chewers \n",
            "Predicted summary:  great treats\n",
            "\n",
            "\n",
            "Review: really search good deals tea tea great price tea amazon almost cup price cup coffee herbal varieties low caffine good option wife used dinner coffe \n",
            "Original summary: great price for great tea \n",
            "Predicted summary:  great tea\n",
            "\n",
            "\n",
            "Review: pricey essentially small bag hard crumbs maybe dog spoiled treats like third class treats definitely bottom doggie treat often simply walk away glad people like buying \n",
            "Original summary: waste of money \n",
            "Predicted summary:  great product\n",
            "\n",
            "\n",
            "Review: little pricey consider sugar low cal caffine really rich flavor best chai ever found \n",
            "Original summary: fabulous product \n",
            "Predicted summary:  delicious\n",
            "\n",
            "\n",
            "Review: loves taste beef freeze dried dog treats use training really works \n",
            "Original summary: dog lover \n",
            "Predicted summary:  great treats\n",
            "\n",
            "\n",
            "Review: three dogs cairn terriers year old border collie proud greenies like taste helps keep gums teeth good shape \n",
            "Original summary: our dogs love greenies \n",
            "Predicted summary:  great treats\n",
            "\n",
            "\n",
            "Review: good soft drink smooth strawberry cream soda tasty \n",
            "Original summary: good stuff \n",
            "Predicted summary:  great\n",
            "\n",
            "\n",
            "Review: item arrived sugar free shipped regular version caramel syrup small internal sticker bottle stated sugar free although company label bottle stated regular version \n",
            "Original summary: wrong item \n",
            "Predicted summary:  not as advertised\n",
            "\n",
            "\n",
            "Review: like strong coffee coffee rated found weak sickening taste \n",
            "Original summary: disapointed \n",
            "Predicted summary:  great coffee\n",
            "\n",
            "\n",
            "Review: saw peanut butter chocolate cereal knew try pleased eat chocolate breakfast feel guilty two kids love cereal well great eat alone favorite milk product yogurt mix homemade granola well \n",
            "Original summary: the yummy \n",
            "Predicted summary:  delicious\n",
            "\n",
            "\n",
            "Review: begging time loves used buy small bottle buying every weeks since saw oz buying last lot longer gas money cheaper buy online \n",
            "Original summary: my dog loves it \n",
            "Predicted summary:  great product\n",
            "\n",
            "\n",
            "Review: true also need decent scale tried caviar recipe everything worked perfectly first try fun easy make kit comes large enough samples looks like good uses \n",
            "Original summary: great to \n",
            "Predicted summary:  great product\n",
            "\n",
            "\n",
            "Review: dog really likes treats like buy run mill treats loaded fat fillers continue buy \n",
            "Original summary: buddy biscuits \n",
            "Predicted summary:  great dog food\n",
            "\n",
            "\n",
            "Review: tulsi green tea great good iced tea well \n",
            "Original summary: green tea \n",
            "Predicted summary:  great tea\n",
            "\n",
            "\n",
            "Review: always put something market couple poof gone best tasting product pepsi \n",
            "Original summary: best taste \n",
            "Predicted summary:  great\n",
            "\n",
            "\n",
            "Review: like tomatoes fresh flavorful also come carton welcome alternative metal cans impart flavor sometimes lined plastic containing \n",
            "Original summary: yummy tomatoes good packaging \n",
            "Predicted summary:  not as advertised\n",
            "\n",
            "\n",
            "Review: great get habit forming careful bought whole case save overall versus going supermarket rich dark chocolate crisp cookie worth every penny oreo eat heart \n",
            "Original summary: delicious \n",
            "Predicted summary:  great\n",
            "\n",
            "\n",
            "Review: else say arrived promptly perhaps time expected expiration date like next day good go \n",
            "Original summary: baby loves it \n",
            "Predicted summary:  not as advertised\n",
            "\n",
            "\n",
            "Review: bought local recently advertised cheesy flavor detectable product even salt flavor avoid product \n",
            "Original summary: no cheese flavor \n",
            "Predicted summary:  not as advertised\n",
            "\n",
            "\n",
            "Review: big volume coffee morning one great \n",
            "Original summary: great morning coffee \n",
            "Predicted summary:  great coffee\n",
            "\n",
            "\n",
            "Review: drank try keep awake fell asleep minutes drinking feel anything \n",
            "Original summary: it made me fall \n",
            "Predicted summary:  great product\n",
            "\n",
            "\n",
            "Review: drink cups day verona italian french roast coffee wanted try lower acid version brand coffee smells tastes like vinegar totally unpalatable better drinking water acid coffee bothers \n",
            "Original summary: single worst coffee ever \n",
            "Predicted summary:  great coffee\n",
            "\n",
            "\n",
            "Review: getting price however afraid stocking anymore reduced price think one trying eat crackers low calorie string cheese breakfast every total calories put breakfast baggie go \n",
            "Original summary: am addicted to these \n",
            "Predicted summary:  great product\n",
            "\n",
            "\n",
            "Review: first time using fondarific fondant general one really easy use baby shower cake worked indicated also colored made two tier cake final product looked great greasy \n",
            "Original summary: easy to use \n",
            "Predicted summary:  great product\n",
            "\n",
            "\n",
            "Review: work home drink cups cup coffee day good tasting coffee lowest price cup market \n",
            "Original summary: great coffee great price \n",
            "Predicted summary:  great coffee\n",
            "\n",
            "\n",
            "Review: guys say natural really tastes great pleasantly surprised stand flavor carbonated think would even better product time come fed sweet juices aftertaste make obvious really natural switch really gets vote \n",
            "Original summary: great taste all natural \n",
            "Predicted summary:  great\n",
            "\n",
            "\n",
            "Review: product good goes long way quite good one dd good product less \n",
            "Original summary: very good \n",
            "Predicted summary:  great product\n",
            "\n",
            "\n",
            "Review: tea wonderful soothing even soothing get shipped house found hard find decaffeinated tea grocery store much easier \n",
            "Original summary: decaffeinated french vanilla tea yummy \n",
            "Predicted summary:  great tea\n",
            "\n",
            "\n",
            "Review: wow little calorie espresso sugar serve cold delicious little shot espresso sugar overly sweet sugar helps offset taste espresso caffe bitter sweet tastes good really gave afternoon kick pants \n",
            "Original summary: nice little pick me up \n",
            "Predicted summary:  great\n",
            "\n",
            "\n",
            "Review: mayonnaise delicious side side taste test would give hellman edge hellman richer taste \n",
            "Original summary: excellent but \n",
            "Predicted summary:  great\n",
            "\n",
            "\n",
            "Review: love medium full flavored roast smooth taste bitter acidic taste excellent coffee good value also try timothy kona good also \n",
            "Original summary: wonderful coffee \n",
            "Predicted summary:  great coffee\n",
            "\n",
            "\n",
            "Review: nice item chunks meat good gravy cat fond varieties nice little treat nonetheless think item bit pricy per ounce \n",
            "Original summary: nice but pricey \n",
            "Predicted summary:  cat food\n",
            "\n",
            "\n",
            "Review: bought cookies gifts open last long good make great gifts would definitely buy \n",
            "Original summary: mouth watery cookies \n",
            "Predicted summary:  great\n",
            "\n",
            "\n",
            "Review: great price fast shipping best chips better ingredients less calories snack foods plus taste like real chips \n",
            "Original summary: pop chips are the best \n",
            "Predicted summary:  great snack\n",
            "\n",
            "\n",
            "Review: taco bell chipotle sauce bold flavorful tried chicken wings tacos salad made dish extremely tasty glad sampled new sauce staple condiment \n",
            "Original summary: bold flavor \n",
            "Predicted summary:  great flavor\n",
            "\n",
            "\n",
            "Review: bought seeds make centerpieces really surprised fast grow planted seeds potting soil without ny preparation anything kept watering days super tall ready displayed centerpieces perfect \n",
            "Original summary: perfect for in days \n",
            "Predicted summary:  great product\n",
            "\n",
            "\n",
            "Review: every time need sun dried tomatoes local grocery stores conveniently small pouches ensure always hand called recipe \n",
            "Original summary: sun dried tomato bliss \n",
            "Predicted summary:  great product\n",
            "\n",
            "\n",
            "Review: love soup eat plain use recipe cannot find area glad amazon \n",
            "Original summary: soup chicken cheese \n",
            "Predicted summary:  great\n",
            "\n",
            "\n",
            "Review: size quite good dog training smell strong cannot put open bag must seal everytime gave treat otherwise dog stand trying fetch believe taste great puppy purchase sure \n",
            "Original summary: strong smell and my puppy loves it \n",
            "Predicted summary:  great treats\n",
            "\n",
            "\n",
            "Review: love chips auto order every months taste great whole bag calories bag every day sure helped weight loss little bags eat huge amount \n",
            "Original summary: great purchase \n",
            "Predicted summary:  great chips\n",
            "\n",
            "\n",
            "Review: many kit wines cost three four times made many kits find fine table wine recommend adding water five gallon mark flavor \n",
            "Original summary: good wine \n",
            "Predicted summary:  great product\n",
            "\n",
            "\n",
            "Review: sooo much pepper heavy salt reminds adams trick food cannot eat seriously fresh nuts seasoned \n",
            "Original summary: over the top seasoning \n",
            "Predicted summary:  great popcorn\n",
            "\n",
            "\n",
            "Review: loved brand best vanilla flavor others tried would buy better price \n",
            "Original summary: wolfgang puck coffee vanilla \n",
            "Predicted summary:  great\n",
            "\n",
            "\n",
            "Review: another brand cinammon carried amazon much better tasting brand maybe packaging part problem simple plastic bag tie amazon brand comes carefully set plastic box \n",
            "Original summary: edible have had much better \n",
            "Predicted summary:  not as advertised\n",
            "\n",
            "\n",
            "Review: throw pack one actually taste bad especially compared orange tangerine like carbonation adds juice flavors need work switch drinks best worst watermelon strawberry kiwi berry black cherry orange tangerine \n",
            "Original summary: my favorite of the four tried \n",
            "Predicted summary:  not as advertised\n",
            "\n",
            "\n",
            "Review: daughter drinking since months old months old still loves snack time healthy delicious great addition menu \n",
            "Original summary: great snack \n",
            "Predicted summary:  great for gluten free\n",
            "\n",
            "\n",
            "Review: live guinea africa order products delivered boat every months sometimes disappointed time zero calories zero carbs taste great price zero delivery costs prime ordered different flavors one favorite love \n",
            "Original summary: love it \n",
            "Predicted summary:  great product\n",
            "\n",
            "\n",
            "Review: purchased larger size love size perfect keep purse snack especially times others dessert snack cannot eat must gluten free spouse touch diet food loves \n",
            "Original summary: cannot get enough \n",
            "Predicted summary:  great snack\n",
            "\n",
            "\n",
            "Review: always house drink favorite mix sprite oh good every day mind larger bottles use much bring \n",
            "Original summary: am an adult still love this \n",
            "Predicted summary:  great product\n",
            "\n",
            "\n",
            "Review: ginger snaps overpowering ginger go great milk really enjoyed house great buy affordable compared alternative diet foods last least week store well \n",
            "Original summary: you can eat ginger again \n",
            "Predicted summary:  great\n",
            "\n",
            "\n",
            "Review: give squid one star use might thoroughly disappointed quite possibly call crazy \n",
            "Original summary: can for your \n",
            "Predicted summary:  not as advertised\n",
            "\n",
            "\n",
            "Review: quality seeds excellent begin germinate hours days ready use never sprouted seeds results good easily recommend sprouter whether human consumption four legged friends \n",
            "Original summary: wheat grass seeds \n",
            "Predicted summary:  great product\n",
            "\n",
            "\n",
            "Review: love stuff great store bought homemade baked goods kicking things professional level works colored dark light frosting also used dusting powdered sugar pretty fine texture \n",
            "Original summary: fun like dust \n",
            "Predicted summary:  great cereal\n",
            "\n",
            "\n",
            "Review: bought jumbo greenies black lab loved way expensive regular use notice difference breath primary reason buying \n",
            "Original summary: jumbo greenies good but very expensive \n",
            "Predicted summary:  great treats\n",
            "\n",
            "\n",
            "Review: also bought costco per box included bags oz kids fighting remaining bags good buying due price high price prevent product reaching mass distribution \n",
            "Original summary: very good but too pricey \n",
            "Predicted summary:  great product\n",
            "\n",
            "\n",
            "Review: originally found mints whole foods taste superb get lot money plus comes cute little tin uses dog loves go organic \n",
            "Original summary: wonderful \n",
            "Predicted summary:  great product\n",
            "\n",
            "\n",
            "Review: regular spam awful almost inedible would give tastes like animal know mean fellow spam turkey spam pretty good great would give worth try \n",
            "Original summary: better than regular \n",
            "Predicted summary:  not as advertised\n",
            "\n",
            "\n",
            "Review: really need know many cans also whitefish tuna buffet canned cat food thanks \n",
            "Original summary: need to know how many in case \n",
            "Predicted summary:  great product\n",
            "\n",
            "\n",
            "Review: great tasting rich flavor perfect making nice hot cup mocha bought test hershey syrup mocha incredible distinct taste difference noticeable much richer tastes like chocolate less sugary hershey syrup \n",
            "Original summary: great taste \n",
            "Predicted summary:  chocolate\n",
            "\n",
            "\n",
            "Review: number one japan number one great save get shipped automatically every month lugging car \n",
            "Original summary: great tea \n",
            "Predicted summary:  great product\n",
            "\n",
            "\n",
            "Review: bought item read best mayo sold yes even better worlds favorite hellman well review good bit better hellman fact put empty hellman jar said nothing family never knew difference \n",
            "Original summary: blue mayo \n",
            "Predicted summary:  great product\n",
            "\n",
            "\n",
            "Review: gum great makes car smell good leave refreshing sweet tart smooth \n",
            "Original summary: love the gum and the price \n",
            "Predicted summary:  great\n",
            "\n",
            "\n",
            "Review: flavorful smells like heaven great price compared stores arrived fast \n",
            "Original summary: divine \n",
            "Predicted summary:  great product\n",
            "\n",
            "\n",
            "Review: love low calorie organic doctors recommend grams fiber daily smart bran grams per serving fruits veggies set day eat dry vanilla frozen yogurt cinnamon \n",
            "Original summary: yes to smart bran \n",
            "Predicted summary:  great for\n",
            "\n",
            "\n",
            "Review: found spice blend dallas years back tell restaurant using grilled shrimp like cajun spice grilling fish recommend store dry place replace every year least lose flavor \n",
            "Original summary: good stuff \n",
            "Predicted summary:  great coffee\n",
            "\n",
            "\n",
            "Review: plain riceselect couscous delicious easy quick prepare great side item base main course far found bad product riceselect \n",
            "Original summary: yummy \n",
            "Predicted summary:  delicious\n",
            "\n",
            "\n"
          ],
          "name": "stdout"
        }
      ]
    }
  ]
}